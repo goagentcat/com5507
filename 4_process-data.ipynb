{
 "cells": [
  {
   "cell_type": "markdown",
   "metadata": {},
   "source": [
    "# STEP 4 Process Data\n",
    "Set a standard filter critial to mark the healthier food choices"
   ]
  },
  {
   "cell_type": "code",
   "execution_count": 9,
   "metadata": {},
   "outputs": [],
   "source": [
    "import requests \n",
    "import bs4 as bs \n",
    "import time, json, random\n",
    "import pandas as pd \n",
    "import csv \n",
    "data = pd.read_csv(\"HKFastFood-foodOnly.csv\")\n"
   ]
  },
  {
   "cell_type": "code",
   "execution_count": 14,
   "metadata": {},
   "outputs": [
    {
     "name": "stdout",
     "output_type": "stream",
     "text": [
      "USA_Female_Below_40%DV is Healthy Choice: 46.27%\n",
      "USA_Male_Below_40%DV is Healthy Choice: 48.66%\n",
      "China_Female_Below_40%DV is Healthy Choice: 23.58%\n",
      "China_Male_Below_40%DV is Healthy Choice: 24.48%\n",
      "Europe_Female_Below_40%DV is Healthy Choice: 45.67%\n",
      "Europe_Male_Below_40%DV is Healthy Choice: 45.97%\n"
     ]
    }
   ],
   "source": [
    "dataIndexes=list(data.index) \n",
    "\n",
    "Column_Name=['USA_Female_Below_40%DV','USA_Male_Below_40%DV','China_Female_Below_40%DV','China_Male_Below_40%DV','Europe_Female_Below_40%DV','Europe_Male_Below_40%DV']\n",
    "Calories_Limit=[720,915.47,796.4,968.8,851.8,1056.3]\n",
    "Sodium_Limit=[920,920,600,600,880,880]\n",
    "Sugar_Limit=[18.6,23.7,20.6,23.7,22,27]\n",
    "Fat_Limit=[28,35.6,25.6,37.7,33.12,38.24]\n",
    "Fiber_Min=[10.08,12.32,10,10,10,10]\n",
    "\n",
    "\n",
    "\n",
    "for g in range(6): #compare data in each group and save result in new column\n",
    "    is_Healthier=[]\n",
    "    for i in dataIndexes:\n",
    "        if  data[\"Total_Fat\"][i]<Fat_Limit[g] and \\\n",
    "        data[\"Calories\"][i]<Calories_Limit[g] and  data[\"Sugars\"][i]<Sugar_Limit[g] and\\\n",
    "        data[\"Sodium\"][i]<Sodium_Limit[g]:\n",
    "            is_Healthier.append(\"Y\")\n",
    "        else:\n",
    "            is_Healthier.append(\"N\")\n",
    "\n",
    "    data[Column_Name[g]]=is_Healthier\n",
    "    Y_count=is_Healthier.count(\"Y\")\n",
    "    print(Column_Name[g]+\" is Healthy Choice: \"+str(round(Y_count/len(is_Healthier)*100,2))+\"%\")\n",
    "\n",
    "\n",
    "data.to_csv(\"HKFastFood-withHealth-noFiber.csv\")\n",
    "\n",
    "stat=data.describe()\n",
    "stat.to_csv(\"HKFastFood-stat-noFiber.csv\")\n",
    " "
   ]
  },
  {
   "cell_type": "code",
   "execution_count": null,
   "metadata": {},
   "outputs": [],
   "source": []
  },
  {
   "cell_type": "code",
   "execution_count": null,
   "metadata": {},
   "outputs": [],
   "source": []
  }
 ],
 "metadata": {
  "kernelspec": {
   "display_name": "Python 3",
   "language": "python",
   "name": "python3"
  },
  "language_info": {
   "codemirror_mode": {
    "name": "ipython",
    "version": 3
   },
   "file_extension": ".py",
   "mimetype": "text/x-python",
   "name": "python",
   "nbconvert_exporter": "python",
   "pygments_lexer": "ipython3",
   "version": "3.8.3"
  }
 },
 "nbformat": 4,
 "nbformat_minor": 4
}
